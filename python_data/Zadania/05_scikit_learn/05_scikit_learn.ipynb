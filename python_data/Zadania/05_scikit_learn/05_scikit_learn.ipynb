{
 "cells": [
  {
   "cell_type": "markdown",
   "source": [
    "### Zadanie 4\n",
    "\n",
    "Wykonaj następujące polecenia za pomocą biblioteki seaborn, pandas oraz scikit-learn.\n",
    "\n",
    "Kolor czcionki (biały/czarny) w zależności od koloru tła"
   ],
   "metadata": {
    "collapsed": false
   },
   "id": "763dbd3fe4265432"
  },
  {
   "cell_type": "markdown",
   "source": [
    "Import bibliotek NumPy, pandas, seaborn"
   ],
   "metadata": {
    "collapsed": false
   },
   "id": "7384962b6dcddc6"
  },
  {
   "cell_type": "code",
   "execution_count": 25,
   "id": "initial_id",
   "metadata": {
    "collapsed": true,
    "ExecuteTime": {
     "end_time": "2023-09-07T22:23:50.693113300Z",
     "start_time": "2023-09-07T22:23:50.633758700Z"
    }
   },
   "outputs": [],
   "source": [
    "import numpy as np\n",
    "import pandas as pd\n",
    "import seaborn as sns"
   ]
  },
  {
   "cell_type": "markdown",
   "source": [
    "Import pliku font_color_dataset.csv oraz wyświetl kilka pierwszych wierszy"
   ],
   "metadata": {
    "collapsed": false
   },
   "id": "c1f64dc9994337f1"
  },
  {
   "cell_type": "code",
   "execution_count": 26,
   "outputs": [
    {
     "data": {
      "text/plain": "   bg_red  bg_green  bg_blue font_color\n0     102       179       92      black\n1      14       106       71      white\n2     188        20      102      white\n3     121       210      214      black\n4      74       202       87      black",
      "text/html": "<div>\n<style scoped>\n    .dataframe tbody tr th:only-of-type {\n        vertical-align: middle;\n    }\n\n    .dataframe tbody tr th {\n        vertical-align: top;\n    }\n\n    .dataframe thead th {\n        text-align: right;\n    }\n</style>\n<table border=\"1\" class=\"dataframe\">\n  <thead>\n    <tr style=\"text-align: right;\">\n      <th></th>\n      <th>bg_red</th>\n      <th>bg_green</th>\n      <th>bg_blue</th>\n      <th>font_color</th>\n    </tr>\n  </thead>\n  <tbody>\n    <tr>\n      <th>0</th>\n      <td>102</td>\n      <td>179</td>\n      <td>92</td>\n      <td>black</td>\n    </tr>\n    <tr>\n      <th>1</th>\n      <td>14</td>\n      <td>106</td>\n      <td>71</td>\n      <td>white</td>\n    </tr>\n    <tr>\n      <th>2</th>\n      <td>188</td>\n      <td>20</td>\n      <td>102</td>\n      <td>white</td>\n    </tr>\n    <tr>\n      <th>3</th>\n      <td>121</td>\n      <td>210</td>\n      <td>214</td>\n      <td>black</td>\n    </tr>\n    <tr>\n      <th>4</th>\n      <td>74</td>\n      <td>202</td>\n      <td>87</td>\n      <td>black</td>\n    </tr>\n  </tbody>\n</table>\n</div>"
     },
     "execution_count": 26,
     "metadata": {},
     "output_type": "execute_result"
    }
   ],
   "source": [
    "df_font_color = pd.read_csv('font_color_dataset.csv')\n",
    "df_font_color.head()"
   ],
   "metadata": {
    "collapsed": false
   },
   "id": "efdd62bcccb2a9bc"
  },
  {
   "cell_type": "code",
   "execution_count": 27,
   "outputs": [],
   "source": [
    "######################################################################################"
   ],
   "metadata": {
    "collapsed": false,
    "ExecuteTime": {
     "end_time": "2023-09-07T22:24:15.030711500Z",
     "start_time": "2023-09-07T22:24:14.743859300Z"
    }
   },
   "id": "7eaa17248fc5ab76"
  },
  {
   "cell_type": "markdown",
   "source": [
    "Wyświetl podstawowe informacje o kolumnach"
   ],
   "metadata": {
    "collapsed": false
   },
   "id": "864f5cc0867e01b4"
  },
  {
   "cell_type": "code",
   "execution_count": 28,
   "outputs": [
    {
     "name": "stdout",
     "output_type": "stream",
     "text": [
      "<class 'pandas.core.frame.DataFrame'>\n",
      "RangeIndex: 100 entries, 0 to 99\n",
      "Data columns (total 4 columns):\n",
      " #   Column      Non-Null Count  Dtype \n",
      "---  ------      --------------  ----- \n",
      " 0   bg_red      100 non-null    int64 \n",
      " 1   bg_green    100 non-null    int64 \n",
      " 2   bg_blue     100 non-null    int64 \n",
      " 3   font_color  100 non-null    object\n",
      "dtypes: int64(3), object(1)\n",
      "memory usage: 3.2+ KB\n"
     ]
    }
   ],
   "source": [
    "df_font_color.info()"
   ],
   "metadata": {
    "collapsed": false
   },
   "id": "39d0d3e1b953bbd0"
  },
  {
   "cell_type": "code",
   "execution_count": 29,
   "outputs": [],
   "source": [
    "######################################################################################"
   ],
   "metadata": {
    "collapsed": false,
    "ExecuteTime": {
     "end_time": "2023-09-07T22:24:36.035019600Z",
     "start_time": "2023-09-07T22:24:35.847066400Z"
    }
   },
   "id": "a73641309a88af67"
  },
  {
   "cell_type": "markdown",
   "source": [
    "Wyświetl podstawowe statystyki danych"
   ],
   "metadata": {
    "collapsed": false
   },
   "id": "7facdbe80ceea628"
  },
  {
   "cell_type": "code",
   "execution_count": 30,
   "outputs": [
    {
     "data": {
      "text/plain": "           bg_red    bg_green     bg_blue\ncount  100.000000  100.000000  100.000000\nmean   127.840000  138.060000  130.070000\nstd     70.952498   78.237249   80.392001\nmin      2.000000    0.000000    1.000000\n25%     70.000000   63.500000   58.750000\n50%    129.000000  155.000000  125.000000\n75%    188.250000  206.000000  206.750000\nmax    253.000000  255.000000  254.000000",
      "text/html": "<div>\n<style scoped>\n    .dataframe tbody tr th:only-of-type {\n        vertical-align: middle;\n    }\n\n    .dataframe tbody tr th {\n        vertical-align: top;\n    }\n\n    .dataframe thead th {\n        text-align: right;\n    }\n</style>\n<table border=\"1\" class=\"dataframe\">\n  <thead>\n    <tr style=\"text-align: right;\">\n      <th></th>\n      <th>bg_red</th>\n      <th>bg_green</th>\n      <th>bg_blue</th>\n    </tr>\n  </thead>\n  <tbody>\n    <tr>\n      <th>count</th>\n      <td>100.000000</td>\n      <td>100.000000</td>\n      <td>100.000000</td>\n    </tr>\n    <tr>\n      <th>mean</th>\n      <td>127.840000</td>\n      <td>138.060000</td>\n      <td>130.070000</td>\n    </tr>\n    <tr>\n      <th>std</th>\n      <td>70.952498</td>\n      <td>78.237249</td>\n      <td>80.392001</td>\n    </tr>\n    <tr>\n      <th>min</th>\n      <td>2.000000</td>\n      <td>0.000000</td>\n      <td>1.000000</td>\n    </tr>\n    <tr>\n      <th>25%</th>\n      <td>70.000000</td>\n      <td>63.500000</td>\n      <td>58.750000</td>\n    </tr>\n    <tr>\n      <th>50%</th>\n      <td>129.000000</td>\n      <td>155.000000</td>\n      <td>125.000000</td>\n    </tr>\n    <tr>\n      <th>75%</th>\n      <td>188.250000</td>\n      <td>206.000000</td>\n      <td>206.750000</td>\n    </tr>\n    <tr>\n      <th>max</th>\n      <td>253.000000</td>\n      <td>255.000000</td>\n      <td>254.000000</td>\n    </tr>\n  </tbody>\n</table>\n</div>"
     },
     "execution_count": 30,
     "metadata": {},
     "output_type": "execute_result"
    }
   ],
   "source": [
    "df_font_color.describe()"
   ],
   "metadata": {
    "collapsed": false
   },
   "id": "239d2b16976774f4"
  },
  {
   "cell_type": "code",
   "execution_count": 31,
   "outputs": [],
   "source": [
    "######################################################################################"
   ],
   "metadata": {
    "collapsed": false,
    "ExecuteTime": {
     "end_time": "2023-09-07T22:24:40.054527800Z",
     "start_time": "2023-09-07T22:24:39.969411500Z"
    }
   },
   "id": "fc3e918bf902c3e7"
  },
  {
   "cell_type": "markdown",
   "source": [
    "Wyświetl podstawowe statystyki dla typu object"
   ],
   "metadata": {
    "collapsed": false
   },
   "id": "5b140a5fe3680fa3"
  },
  {
   "cell_type": "code",
   "execution_count": 32,
   "outputs": [
    {
     "data": {
      "text/plain": "       font_color\ncount         100\nunique          2\ntop         black\nfreq           55",
      "text/html": "<div>\n<style scoped>\n    .dataframe tbody tr th:only-of-type {\n        vertical-align: middle;\n    }\n\n    .dataframe tbody tr th {\n        vertical-align: top;\n    }\n\n    .dataframe thead th {\n        text-align: right;\n    }\n</style>\n<table border=\"1\" class=\"dataframe\">\n  <thead>\n    <tr style=\"text-align: right;\">\n      <th></th>\n      <th>font_color</th>\n    </tr>\n  </thead>\n  <tbody>\n    <tr>\n      <th>count</th>\n      <td>100</td>\n    </tr>\n    <tr>\n      <th>unique</th>\n      <td>2</td>\n    </tr>\n    <tr>\n      <th>top</th>\n      <td>black</td>\n    </tr>\n    <tr>\n      <th>freq</th>\n      <td>55</td>\n    </tr>\n  </tbody>\n</table>\n</div>"
     },
     "execution_count": 32,
     "metadata": {},
     "output_type": "execute_result"
    }
   ],
   "source": [
    "df_font_color.describe(include='object')"
   ],
   "metadata": {
    "collapsed": false
   },
   "id": "cba76c00505c049f"
  },
  {
   "cell_type": "code",
   "execution_count": 33,
   "outputs": [],
   "source": [
    "######################################################################################"
   ],
   "metadata": {
    "collapsed": false,
    "ExecuteTime": {
     "end_time": "2023-09-07T22:24:44.951321900Z",
     "start_time": "2023-09-07T22:24:44.925106400Z"
    }
   },
   "id": "ba5a353a805916b7"
  },
  {
   "cell_type": "markdown",
   "source": [
    "Wyświetl wykres pairplot dla danych "
   ],
   "metadata": {
    "collapsed": false
   },
   "id": "7a7af2bff6b5e471"
  },
  {
   "cell_type": "code",
   "execution_count": 34,
   "outputs": [
    {
     "name": "stderr",
     "output_type": "stream",
     "text": [
      "C:\\Users\\nadachow\\PycharmProjects\\pythonProject\\venv\\lib\\site-packages\\seaborn\\_oldcore.py:1498: FutureWarning: is_categorical_dtype is deprecated and will be removed in a future version. Use isinstance(dtype, CategoricalDtype) instead\n",
      "  if pd.api.types.is_categorical_dtype(vector):\n",
      "C:\\Users\\nadachow\\PycharmProjects\\pythonProject\\venv\\lib\\site-packages\\seaborn\\_oldcore.py:1498: FutureWarning: is_categorical_dtype is deprecated and will be removed in a future version. Use isinstance(dtype, CategoricalDtype) instead\n",
      "  if pd.api.types.is_categorical_dtype(vector):\n",
      "C:\\Users\\nadachow\\PycharmProjects\\pythonProject\\venv\\lib\\site-packages\\seaborn\\_oldcore.py:1498: FutureWarning: is_categorical_dtype is deprecated and will be removed in a future version. Use isinstance(dtype, CategoricalDtype) instead\n",
      "  if pd.api.types.is_categorical_dtype(vector):\n",
      "C:\\Users\\nadachow\\PycharmProjects\\pythonProject\\venv\\lib\\site-packages\\seaborn\\_oldcore.py:1498: FutureWarning: is_categorical_dtype is deprecated and will be removed in a future version. Use isinstance(dtype, CategoricalDtype) instead\n",
      "  if pd.api.types.is_categorical_dtype(vector):\n",
      "C:\\Users\\nadachow\\PycharmProjects\\pythonProject\\venv\\lib\\site-packages\\seaborn\\_oldcore.py:1498: FutureWarning: is_categorical_dtype is deprecated and will be removed in a future version. Use isinstance(dtype, CategoricalDtype) instead\n",
      "  if pd.api.types.is_categorical_dtype(vector):\n",
      "C:\\Users\\nadachow\\PycharmProjects\\pythonProject\\venv\\lib\\site-packages\\seaborn\\_oldcore.py:1119: FutureWarning: use_inf_as_na option is deprecated and will be removed in a future version. Convert inf values to NaN before operating instead.\n",
      "  with pd.option_context('mode.use_inf_as_na', True):\n",
      "C:\\Users\\nadachow\\PycharmProjects\\pythonProject\\venv\\lib\\site-packages\\seaborn\\_oldcore.py:1498: FutureWarning: is_categorical_dtype is deprecated and will be removed in a future version. Use isinstance(dtype, CategoricalDtype) instead\n",
      "  if pd.api.types.is_categorical_dtype(vector):\n",
      "C:\\Users\\nadachow\\PycharmProjects\\pythonProject\\venv\\lib\\site-packages\\seaborn\\_oldcore.py:1119: FutureWarning: use_inf_as_na option is deprecated and will be removed in a future version. Convert inf values to NaN before operating instead.\n",
      "  with pd.option_context('mode.use_inf_as_na', True):\n",
      "C:\\Users\\nadachow\\PycharmProjects\\pythonProject\\venv\\lib\\site-packages\\seaborn\\_oldcore.py:1498: FutureWarning: is_categorical_dtype is deprecated and will be removed in a future version. Use isinstance(dtype, CategoricalDtype) instead\n",
      "  if pd.api.types.is_categorical_dtype(vector):\n",
      "C:\\Users\\nadachow\\PycharmProjects\\pythonProject\\venv\\lib\\site-packages\\seaborn\\_oldcore.py:1119: FutureWarning: use_inf_as_na option is deprecated and will be removed in a future version. Convert inf values to NaN before operating instead.\n",
      "  with pd.option_context('mode.use_inf_as_na', True):\n",
      "C:\\Users\\nadachow\\PycharmProjects\\pythonProject\\venv\\lib\\site-packages\\seaborn\\_oldcore.py:1498: FutureWarning: is_categorical_dtype is deprecated and will be removed in a future version. Use isinstance(dtype, CategoricalDtype) instead\n",
      "  if pd.api.types.is_categorical_dtype(vector):\n",
      "C:\\Users\\nadachow\\PycharmProjects\\pythonProject\\venv\\lib\\site-packages\\seaborn\\_oldcore.py:1498: FutureWarning: is_categorical_dtype is deprecated and will be removed in a future version. Use isinstance(dtype, CategoricalDtype) instead\n",
      "  if pd.api.types.is_categorical_dtype(vector):\n",
      "C:\\Users\\nadachow\\PycharmProjects\\pythonProject\\venv\\lib\\site-packages\\seaborn\\_oldcore.py:1498: FutureWarning: is_categorical_dtype is deprecated and will be removed in a future version. Use isinstance(dtype, CategoricalDtype) instead\n",
      "  if pd.api.types.is_categorical_dtype(vector):\n",
      "C:\\Users\\nadachow\\PycharmProjects\\pythonProject\\venv\\lib\\site-packages\\seaborn\\_oldcore.py:1498: FutureWarning: is_categorical_dtype is deprecated and will be removed in a future version. Use isinstance(dtype, CategoricalDtype) instead\n",
      "  if pd.api.types.is_categorical_dtype(vector):\n",
      "C:\\Users\\nadachow\\PycharmProjects\\pythonProject\\venv\\lib\\site-packages\\seaborn\\_oldcore.py:1498: FutureWarning: is_categorical_dtype is deprecated and will be removed in a future version. Use isinstance(dtype, CategoricalDtype) instead\n",
      "  if pd.api.types.is_categorical_dtype(vector):\n",
      "C:\\Users\\nadachow\\PycharmProjects\\pythonProject\\venv\\lib\\site-packages\\seaborn\\_oldcore.py:1498: FutureWarning: is_categorical_dtype is deprecated and will be removed in a future version. Use isinstance(dtype, CategoricalDtype) instead\n",
      "  if pd.api.types.is_categorical_dtype(vector):\n",
      "C:\\Users\\nadachow\\PycharmProjects\\pythonProject\\venv\\lib\\site-packages\\seaborn\\_oldcore.py:1498: FutureWarning: is_categorical_dtype is deprecated and will be removed in a future version. Use isinstance(dtype, CategoricalDtype) instead\n",
      "  if pd.api.types.is_categorical_dtype(vector):\n",
      "C:\\Users\\nadachow\\PycharmProjects\\pythonProject\\venv\\lib\\site-packages\\seaborn\\_oldcore.py:1498: FutureWarning: is_categorical_dtype is deprecated and will be removed in a future version. Use isinstance(dtype, CategoricalDtype) instead\n",
      "  if pd.api.types.is_categorical_dtype(vector):\n",
      "C:\\Users\\nadachow\\PycharmProjects\\pythonProject\\venv\\lib\\site-packages\\seaborn\\_oldcore.py:1498: FutureWarning: is_categorical_dtype is deprecated and will be removed in a future version. Use isinstance(dtype, CategoricalDtype) instead\n",
      "  if pd.api.types.is_categorical_dtype(vector):\n",
      "C:\\Users\\nadachow\\PycharmProjects\\pythonProject\\venv\\lib\\site-packages\\seaborn\\_oldcore.py:1498: FutureWarning: is_categorical_dtype is deprecated and will be removed in a future version. Use isinstance(dtype, CategoricalDtype) instead\n",
      "  if pd.api.types.is_categorical_dtype(vector):\n",
      "C:\\Users\\nadachow\\PycharmProjects\\pythonProject\\venv\\lib\\site-packages\\seaborn\\_oldcore.py:1498: FutureWarning: is_categorical_dtype is deprecated and will be removed in a future version. Use isinstance(dtype, CategoricalDtype) instead\n",
      "  if pd.api.types.is_categorical_dtype(vector):\n",
      "C:\\Users\\nadachow\\PycharmProjects\\pythonProject\\venv\\lib\\site-packages\\seaborn\\_oldcore.py:1498: FutureWarning: is_categorical_dtype is deprecated and will be removed in a future version. Use isinstance(dtype, CategoricalDtype) instead\n",
      "  if pd.api.types.is_categorical_dtype(vector):\n",
      "C:\\Users\\nadachow\\PycharmProjects\\pythonProject\\venv\\lib\\site-packages\\seaborn\\axisgrid.py:118: UserWarning: The figure layout has changed to tight\n",
      "  self._figure.tight_layout(*args, **kwargs)\n"
     ]
    },
    {
     "data": {
      "text/plain": "<seaborn.axisgrid.PairGrid at 0x1d3edac2110>"
     },
     "execution_count": 34,
     "metadata": {},
     "output_type": "execute_result"
    },
    {
     "data": {
      "text/plain": "<Figure size 750x750 with 12 Axes>",
      "image/png": "[encoded data removed]"
     },
     "metadata": {},
     "output_type": "display_data"
    }
   ],
   "source": [
    "sns.pairplot(df_font_color)"
   ],
   "metadata": {
    "collapsed": false
   },
   "id": "5b3afbd1fc6deabe"
  },
  {
   "cell_type": "code",
   "execution_count": 35,
   "outputs": [],
   "source": [
    "######################################################################################"
   ],
   "metadata": {
    "collapsed": false,
    "ExecuteTime": {
     "end_time": "2023-09-07T22:24:54.139425700Z",
     "start_time": "2023-09-07T22:24:50.809339900Z"
    }
   },
   "id": "3935af0daf4295d8"
  },
  {
   "cell_type": "markdown",
   "source": [
    "Zamień kolumnę kategoryczną font_color na kolumnę binarną 0/1"
   ],
   "metadata": {
    "collapsed": false
   },
   "id": "c348d9f5fd00551f"
  },
  {
   "cell_type": "code",
   "execution_count": 36,
   "outputs": [],
   "source": [
    "df_font_color = pd.get_dummies(df_font_color, dtype='float', drop_first=True)"
   ],
   "metadata": {
    "collapsed": false
   },
   "id": "2c90f6625ea235c1"
  },
  {
   "cell_type": "code",
   "execution_count": 37,
   "outputs": [],
   "source": [
    "######################################################################################"
   ],
   "metadata": {
    "collapsed": false,
    "ExecuteTime": {
     "end_time": "2023-09-07T22:24:59.271548500Z",
     "start_time": "2023-09-07T22:24:59.233528200Z"
    }
   },
   "id": "9388d43ad3b43d78"
  },
  {
   "cell_type": "markdown",
   "source": [
    "Wyświetl kilka pierwszych kolumn po przekształceniu"
   ],
   "metadata": {
    "collapsed": false
   },
   "id": "e9ff44ba60484ead"
  },
  {
   "cell_type": "code",
   "execution_count": 38,
   "outputs": [
    {
     "data": {
      "text/plain": "   bg_red  bg_green  bg_blue  font_color_white\n0     102       179       92               0.0\n1      14       106       71               1.0\n2     188        20      102               1.0\n3     121       210      214               0.0\n4      74       202       87               0.0",
      "text/html": "<div>\n<style scoped>\n    .dataframe tbody tr th:only-of-type {\n        vertical-align: middle;\n    }\n\n    .dataframe tbody tr th {\n        vertical-align: top;\n    }\n\n    .dataframe thead th {\n        text-align: right;\n    }\n</style>\n<table border=\"1\" class=\"dataframe\">\n  <thead>\n    <tr style=\"text-align: right;\">\n      <th></th>\n      <th>bg_red</th>\n      <th>bg_green</th>\n      <th>bg_blue</th>\n      <th>font_color_white</th>\n    </tr>\n  </thead>\n  <tbody>\n    <tr>\n      <th>0</th>\n      <td>102</td>\n      <td>179</td>\n      <td>92</td>\n      <td>0.0</td>\n    </tr>\n    <tr>\n      <th>1</th>\n      <td>14</td>\n      <td>106</td>\n      <td>71</td>\n      <td>1.0</td>\n    </tr>\n    <tr>\n      <th>2</th>\n      <td>188</td>\n      <td>20</td>\n      <td>102</td>\n      <td>1.0</td>\n    </tr>\n    <tr>\n      <th>3</th>\n      <td>121</td>\n      <td>210</td>\n      <td>214</td>\n      <td>0.0</td>\n    </tr>\n    <tr>\n      <th>4</th>\n      <td>74</td>\n      <td>202</td>\n      <td>87</td>\n      <td>0.0</td>\n    </tr>\n  </tbody>\n</table>\n</div>"
     },
     "execution_count": 38,
     "metadata": {},
     "output_type": "execute_result"
    }
   ],
   "source": [
    "df_font_color.head()"
   ],
   "metadata": {
    "collapsed": false
   },
   "id": "8fc74c18d9a0f348"
  },
  {
   "cell_type": "code",
   "execution_count": 39,
   "outputs": [],
   "source": [
    "######################################################################################"
   ],
   "metadata": {
    "collapsed": false,
    "ExecuteTime": {
     "end_time": "2023-09-07T22:25:00.421393700Z",
     "start_time": "2023-09-07T22:25:00.377349500Z"
    }
   },
   "id": "cfef5add5f76dbc1"
  },
  {
   "cell_type": "markdown",
   "source": [
    "Wyświetl mapę ciepła wzajemnych zależności pomiędzy kolumnami"
   ],
   "metadata": {
    "collapsed": false
   },
   "id": "4c6da89178c95f68"
  },
  {
   "cell_type": "code",
   "execution_count": 40,
   "outputs": [
    {
     "data": {
      "text/plain": "<Axes: >"
     },
     "execution_count": 40,
     "metadata": {},
     "output_type": "execute_result"
    },
    {
     "data": {
      "text/plain": "<Figure size 640x480 with 2 Axes>",
      "image/png": "[encoded data removed]"
     },
     "metadata": {},
     "output_type": "display_data"
    }
   ],
   "source": [
    "\n",
    "sns.heatmap(df_font_color.drop('font_color_white', axis=1).corr(), annot=True)"
   ],
   "metadata": {
    "collapsed": false
   },
   "id": "f5319264704d885a"
  },
  {
   "cell_type": "code",
   "execution_count": 41,
   "outputs": [],
   "source": [
    "######################################################################################"
   ],
   "metadata": {
    "collapsed": false,
    "ExecuteTime": {
     "end_time": "2023-09-07T22:25:35.183238200Z",
     "start_time": "2023-09-07T22:25:34.817121300Z"
    }
   },
   "id": "2f5c6578919cef65"
  },
  {
   "cell_type": "markdown",
   "source": [
    "Podziel dane na zbiory cechy i cel"
   ],
   "metadata": {
    "collapsed": false
   },
   "id": "a985da28d4f6aaae"
  },
  {
   "cell_type": "code",
   "execution_count": 42,
   "outputs": [],
   "source": [
    "data = df_font_color"
   ],
   "metadata": {
    "collapsed": false,
    "ExecuteTime": {
     "end_time": "2023-09-07T22:26:03.961002300Z",
     "start_time": "2023-09-07T22:26:03.892586300Z"
    }
   },
   "id": "40c95c78d30b43bb"
  },
  {
   "cell_type": "code",
   "execution_count": 43,
   "outputs": [],
   "source": [
    "target = data.pop('font_color_white')"
   ],
   "metadata": {
    "collapsed": false
   }
  },
  {
   "cell_type": "code",
   "execution_count": 43,
   "outputs": [],
   "source": [],
   "metadata": {
    "collapsed": false
   }
  },
  {
   "cell_type": "markdown",
   "source": [
    "Wyświetl kilka pierwszych wierszy cech"
   ],
   "metadata": {
    "collapsed": false
   },
   "id": "c522a3cec5cbcc16"
  },
  {
   "cell_type": "code",
   "execution_count": 44,
   "outputs": [
    {
     "data": {
      "text/plain": "   bg_red  bg_green  bg_blue\n0     102       179       92\n1      14       106       71\n2     188        20      102\n3     121       210      214\n4      74       202       87",
      "text/html": "<div>\n<style scoped>\n    .dataframe tbody tr th:only-of-type {\n        vertical-align: middle;\n    }\n\n    .dataframe tbody tr th {\n        vertical-align: top;\n    }\n\n    .dataframe thead th {\n        text-align: right;\n    }\n</style>\n<table border=\"1\" class=\"dataframe\">\n  <thead>\n    <tr style=\"text-align: right;\">\n      <th></th>\n      <th>bg_red</th>\n      <th>bg_green</th>\n      <th>bg_blue</th>\n    </tr>\n  </thead>\n  <tbody>\n    <tr>\n      <th>0</th>\n      <td>102</td>\n      <td>179</td>\n      <td>92</td>\n    </tr>\n    <tr>\n      <th>1</th>\n      <td>14</td>\n      <td>106</td>\n      <td>71</td>\n    </tr>\n    <tr>\n      <th>2</th>\n      <td>188</td>\n      <td>20</td>\n      <td>102</td>\n    </tr>\n    <tr>\n      <th>3</th>\n      <td>121</td>\n      <td>210</td>\n      <td>214</td>\n    </tr>\n    <tr>\n      <th>4</th>\n      <td>74</td>\n      <td>202</td>\n      <td>87</td>\n    </tr>\n  </tbody>\n</table>\n</div>"
     },
     "execution_count": 44,
     "metadata": {},
     "output_type": "execute_result"
    }
   ],
   "source": [
    "data.head()"
   ],
   "metadata": {
    "collapsed": false
   },
   "id": "2cf644876237666f"
  },
  {
   "cell_type": "code",
   "execution_count": 45,
   "outputs": [],
   "source": [
    "######################################################################################"
   ],
   "metadata": {
    "collapsed": false,
    "ExecuteTime": {
     "end_time": "2023-09-07T22:26:05.837047100Z",
     "start_time": "2023-09-07T22:26:05.780318100Z"
    }
   },
   "id": "60e352f88a69a44e"
  },
  {
   "cell_type": "markdown",
   "source": [
    "Wyświetl kilka pierwszych wierszy celu"
   ],
   "metadata": {
    "collapsed": false
   },
   "id": "411e7ceda9bbaef1"
  },
  {
   "cell_type": "code",
   "execution_count": 46,
   "outputs": [
    {
     "data": {
      "text/plain": "0    0.0\n1    1.0\n2    1.0\n3    0.0\n4    0.0\nName: font_color_white, dtype: float64"
     },
     "execution_count": 46,
     "metadata": {},
     "output_type": "execute_result"
    }
   ],
   "source": [
    "target.head()"
   ],
   "metadata": {
    "collapsed": false
   },
   "id": "b319d7d155b87d98"
  },
  {
   "cell_type": "code",
   "execution_count": 47,
   "outputs": [],
   "source": [
    "######################################################################################"
   ],
   "metadata": {
    "collapsed": false,
    "ExecuteTime": {
     "end_time": "2023-09-07T22:26:07.421184200Z",
     "start_time": "2023-09-07T22:26:07.401046300Z"
    }
   },
   "id": "20c8636cec441d9a"
  },
  {
   "cell_type": "markdown",
   "source": [
    "Podziel dane na zbiór treningowy i testowy (wykorzystaj flagę random_state=5 ,aby uzyskać identyczne wyniki)"
   ],
   "metadata": {
    "collapsed": false
   },
   "id": "6b88798b29ff8a67"
  },
  {
   "cell_type": "code",
   "execution_count": 48,
   "outputs": [],
   "source": [
    "from sklearn.model_selection import train_test_split\n",
    "\n",
    "#X -> cechy, y -> etykiety\n",
    "X_train, X_test, y_train, y_test = train_test_split(data, target, random_state=5)"
   ],
   "metadata": {
    "collapsed": false,
    "ExecuteTime": {
     "end_time": "2023-09-07T22:26:34.793385700Z",
     "start_time": "2023-09-07T22:26:34.743749400Z"
    }
   },
   "id": "d4f257d4f644f56a"
  },
  {
   "cell_type": "markdown",
   "source": [
    "Zaimportuj klasę regresji liniowej z biblioteki scikit-learn, dokonaj treningu modelu na podstawie zbioru treningowego"
   ],
   "metadata": {
    "collapsed": false
   },
   "id": "c15eb97e682d8fa4"
  },
  {
   "cell_type": "code",
   "execution_count": 49,
   "outputs": [
    {
     "data": {
      "text/plain": "LogisticRegression()",
      "text/html": "<style>#sk-container-id-3 {color: black;}#sk-container-id-3 pre{padding: 0;}#sk-container-id-3 div.sk-toggleable {background-color: white;}#sk-container-id-3 label.sk-toggleable__label {cursor: pointer;display: block;width: 100%;margin-bottom: 0;padding: 0.3em;box-sizing: border-box;text-align: center;}#sk-container-id-3 label.sk-toggleable__label-arrow:before {content: \"▸\";float: left;margin-right: 0.25em;color: #696969;}#sk-container-id-3 label.sk-toggleable__label-arrow:hover:before {color: black;}#sk-container-id-3 div.sk-estimator:hover label.sk-toggleable__label-arrow:before {color: black;}#sk-container-id-3 div.sk-toggleable__content {max-height: 0;max-width: 0;overflow: hidden;text-align: left;background-color: #f0f8ff;}#sk-container-id-3 div.sk-toggleable__content pre {margin: 0.2em;color: black;border-radius: 0.25em;background-color: #f0f8ff;}#sk-container-id-3 input.sk-toggleable__control:checked~div.sk-toggleable__content {max-height: 200px;max-width: 100%;overflow: auto;}#sk-container-id-3 input.sk-toggleable__control:checked~label.sk-toggleable__label-arrow:before {content: \"▾\";}#sk-container-id-3 div.sk-estimator input.sk-toggleable__control:checked~label.sk-toggleable__label {background-color: #d4ebff;}#sk-container-id-3 div.sk-label input.sk-toggleable__control:checked~label.sk-toggleable__label {background-color: #d4ebff;}#sk-container-id-3 input.sk-hidden--visually {border: 0;clip: rect(1px 1px 1px 1px);clip: rect(1px, 1px, 1px, 1px);height: 1px;margin: -1px;overflow: hidden;padding: 0;position: absolute;width: 1px;}#sk-container-id-3 div.sk-estimator {font-family: monospace;background-color: #f0f8ff;border: 1px dotted black;border-radius: 0.25em;box-sizing: border-box;margin-bottom: 0.5em;}#sk-container-id-3 div.sk-estimator:hover {background-color: #d4ebff;}#sk-container-id-3 div.sk-parallel-item::after {content: \"\";width: 100%;border-bottom: 1px solid gray;flex-grow: 1;}#sk-container-id-3 div.sk-label:hover label.sk-toggleable__label {background-color: #d4ebff;}#sk-container-id-3 div.sk-serial::before {content: \"\";position: absolute;border-left: 1px solid gray;box-sizing: border-box;top: 0;bottom: 0;left: 50%;z-index: 0;}#sk-container-id-3 div.sk-serial {display: flex;flex-direction: column;align-items: center;background-color: white;padding-right: 0.2em;padding-left: 0.2em;position: relative;}#sk-container-id-3 div.sk-item {position: relative;z-index: 1;}#sk-container-id-3 div.sk-parallel {display: flex;align-items: stretch;justify-content: center;background-color: white;position: relative;}#sk-container-id-3 div.sk-item::before, #sk-container-id-3 div.sk-parallel-item::before {content: \"\";position: absolute;border-left: 1px solid gray;box-sizing: border-box;top: 0;bottom: 0;left: 50%;z-index: -1;}#sk-container-id-3 div.sk-parallel-item {display: flex;flex-direction: column;z-index: 1;position: relative;background-color: white;}#sk-container-id-3 div.sk-parallel-item:first-child::after {align-self: flex-end;width: 50%;}#sk-container-id-3 div.sk-parallel-item:last-child::after {align-self: flex-start;width: 50%;}#sk-container-id-3 div.sk-parallel-item:only-child::after {width: 0;}#sk-container-id-3 div.sk-dashed-wrapped {border: 1px dashed gray;margin: 0 0.4em 0.5em 0.4em;box-sizing: border-box;padding-bottom: 0.4em;background-color: white;}#sk-container-id-3 div.sk-label label {font-family: monospace;font-weight: bold;display: inline-block;line-height: 1.2em;}#sk-container-id-3 div.sk-label-container {text-align: center;}#sk-container-id-3 div.sk-container {/* jupyter's `normalize.less` sets `[hidden] { display: none; }` but bootstrap.min.css set `[hidden] { display: none !important; }` so we also need the `!important` here to be able to override the default hidden behavior on the sphinx rendered scikit-learn.org. See: https://github.com/scikit-learn/scikit-learn/issues/21755 */display: inline-block !important;position: relative;}#sk-container-id-3 div.sk-text-repr-fallback {display: none;}</style><div id=\"sk-container-id-3\" class=\"sk-top-container\"><div class=\"sk-text-repr-fallback\"><pre>LogisticRegression()</pre><b>In a Jupyter environment, please rerun this cell to show the HTML representation or trust the notebook. <br />On GitHub, the HTML representation is unable to render, please try loading this page with nbviewer.org.</b></div><div class=\"sk-container\" hidden><div class=\"sk-item\"><div class=\"sk-estimator sk-toggleable\"><input class=\"sk-toggleable__control sk-hidden--visually\" id=\"sk-estimator-id-3\" type=\"checkbox\" checked><label for=\"sk-estimator-id-3\" class=\"sk-toggleable__label sk-toggleable__label-arrow\">LogisticRegression</label><div class=\"sk-toggleable__content\"><pre>LogisticRegression()</pre></div></div></div></div></div>"
     },
     "execution_count": 49,
     "metadata": {},
     "output_type": "execute_result"
    }
   ],
   "source": [
    "from sklearn.linear_model import LogisticRegression\n",
    "\n",
    "log_regression = LogisticRegression()\n",
    "log_regression.fit(X_train, y_train)\n",
    "log_regression"
   ],
   "metadata": {
    "collapsed": false,
    "ExecuteTime": {
     "end_time": "2023-09-07T22:26:40.054547100Z",
     "start_time": "2023-09-07T22:26:40.006420900Z"
    }
   },
   "id": "20a8699ec82413d"
  },
  {
   "cell_type": "markdown",
   "source": [
    "Dokonaj predykcji danych na zbiorze testowym, wyświetl zbiór wynikowy "
   ],
   "metadata": {
    "collapsed": false
   },
   "id": "8af38e13c12caa92"
  },
  {
   "cell_type": "code",
   "execution_count": 50,
   "outputs": [
    {
     "data": {
      "text/plain": "array([0., 1., 1., 1., 1., 0., 0., 1., 1., 0., 1., 0., 0., 0., 0., 1., 0.,\n       1., 1., 0., 1., 1., 1., 1., 1.])"
     },
     "execution_count": 50,
     "metadata": {},
     "output_type": "execute_result"
    }
   ],
   "source": [
    "y_pred = log_regression.predict(X_test)\n",
    "y_pred"
   ],
   "metadata": {
    "collapsed": false
   },
   "id": "e0624e4cd5257701"
  },
  {
   "cell_type": "code",
   "execution_count": 51,
   "outputs": [],
   "source": [
    "######################################################################################"
   ],
   "metadata": {
    "collapsed": false,
    "ExecuteTime": {
     "end_time": "2023-09-07T22:44:15.368183100Z",
     "start_time": "2023-09-07T22:44:15.297615600Z"
    }
   },
   "id": "8c9425f379a0f91b"
  },
  {
   "cell_type": "markdown",
   "source": [
    "Oblicz macierzy pomyłek "
   ],
   "metadata": {
    "collapsed": false
   },
   "id": "5339e038ddbecc70"
  },
  {
   "cell_type": "code",
   "execution_count": 52,
   "outputs": [
    {
     "data": {
      "text/plain": "array([[10,  0],\n       [ 0, 15]], dtype=int64)"
     },
     "execution_count": 52,
     "metadata": {},
     "output_type": "execute_result"
    }
   ],
   "source": [
    "from sklearn.metrics import confusion_matrix\n",
    "\n",
    "cm = confusion_matrix(y_test, y_pred)\n",
    "cm"
   ],
   "metadata": {
    "collapsed": false
   },
   "id": "5c7b7e01b347ad39"
  },
  {
   "cell_type": "code",
   "execution_count": 53,
   "outputs": [],
   "source": [
    "######################################################################################"
   ],
   "metadata": {
    "collapsed": false,
    "ExecuteTime": {
     "end_time": "2023-09-07T22:26:45.013188200Z",
     "start_time": "2023-09-07T22:26:44.993430Z"
    }
   },
   "id": "9297b7bf5748e101"
  },
  {
   "cell_type": "markdown",
   "source": [
    "Wyświetl mapę ciepła dla macierzy pomyłek"
   ],
   "metadata": {
    "collapsed": false
   },
   "id": "2ff9e2379554ab50"
  },
  {
   "cell_type": "code",
   "execution_count": 57,
   "outputs": [
    {
     "data": {
      "text/plain": "<Figure size 640x480 with 2 Axes>",
      "image/png": "[encoded data removed]"
     },
     "metadata": {},
     "output_type": "display_data"
    }
   ],
   "source": [
    "_ = sns.heatmap(cm, annot=True, fmt='d')"
   ],
   "metadata": {
    "collapsed": false
   },
   "id": "aa1e327655b6ace9"
  },
  {
   "cell_type": "code",
   "execution_count": 54,
   "outputs": [],
   "source": [
    "######################################################################################"
   ],
   "metadata": {
    "collapsed": false,
    "ExecuteTime": {
     "end_time": "2023-09-07T22:26:52.468453900Z",
     "start_time": "2023-09-07T22:26:52.198768600Z"
    }
   },
   "id": "bd1e3510d3ffce31"
  },
  {
   "cell_type": "markdown",
   "source": [
    "Oblicz dokładność modelu na zbiorze treningowym"
   ],
   "metadata": {
    "collapsed": false
   },
   "id": "4211712e9164b98f"
  },
  {
   "cell_type": "code",
   "execution_count": 58,
   "outputs": [
    {
     "data": {
      "text/plain": "1.0"
     },
     "execution_count": 58,
     "metadata": {},
     "output_type": "execute_result"
    }
   ],
   "source": [
    "from sklearn.metrics import accuracy_score\n",
    "\n",
    "acc = accuracy_score(y_test, y_pred)\n",
    "acc"
   ],
   "metadata": {
    "collapsed": false
   },
   "id": "9c8c5444eaac8f02"
  },
  {
   "cell_type": "code",
   "execution_count": 55,
   "outputs": [],
   "source": [
    "######################################################################################"
   ],
   "metadata": {
    "collapsed": false,
    "ExecuteTime": {
     "end_time": "2023-09-07T22:27:00.716865Z",
     "start_time": "2023-09-07T22:27:00.671123500Z"
    }
   },
   "id": "32d3473d4a19032d"
  },
  {
   "cell_type": "markdown",
   "source": [
    "Wyświetl raport klasyfikacji dla modelu"
   ],
   "metadata": {
    "collapsed": false
   },
   "id": "22236e198c435889"
  },
  {
   "cell_type": "code",
   "execution_count": 59,
   "outputs": [
    {
     "name": "stdout",
     "output_type": "stream",
     "text": [
      "              precision    recall  f1-score   support\n",
      "\n",
      "         0.0       1.00      1.00      1.00        10\n",
      "         1.0       1.00      1.00      1.00        15\n",
      "\n",
      "    accuracy                           1.00        25\n",
      "   macro avg       1.00      1.00      1.00        25\n",
      "weighted avg       1.00      1.00      1.00        25\n",
      "\n"
     ]
    }
   ],
   "source": [
    "from sklearn.metrics import classification_report\n",
    "\n",
    "cr = classification_report(y_test, y_pred)\n",
    "print(cr)"
   ],
   "metadata": {
    "collapsed": false
   },
   "id": "215d4b5c04383fba"
  },
  {
   "cell_type": "code",
   "execution_count": 56,
   "outputs": [],
   "source": [
    "######################################################################################"
   ],
   "metadata": {
    "collapsed": false,
    "ExecuteTime": {
     "end_time": "2023-09-07T22:27:01.435320100Z",
     "start_time": "2023-09-07T22:27:01.391473600Z"
    }
   },
   "id": "505bebc07fc990ea"
  }
 ],
 "metadata": {
  "kernelspec": {
   "display_name": "Python 3",
   "language": "python",
   "name": "python3"
  },
  "language_info": {
   "codemirror_mode": {
    "name": "ipython",
    "version": 2
   },
   "file_extension": ".py",
   "mimetype": "text/x-python",
   "name": "python",
   "nbconvert_exporter": "python",
   "pygments_lexer": "ipython2",
   "version": "2.7.6"
  }
 },
 "nbformat": 4,
 "nbformat_minor": 5
}
